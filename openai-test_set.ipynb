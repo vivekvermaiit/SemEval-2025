{
 "cells": [
  {
   "cell_type": "code",
   "execution_count": 1,
   "id": "a123d495-65e2-430d-9511-5fcdb3483dc1",
   "metadata": {},
   "outputs": [],
   "source": [
    "import pandas as pd\n",
    "import numpy as np\n",
    "from sklearn.metrics import f1_score\n"
   ]
  },
  {
   "cell_type": "code",
   "execution_count": 2,
   "id": "c7e15b7c-2909-4b39-81eb-6a66ae28158d",
   "metadata": {},
   "outputs": [],
   "source": [
    "import os\n",
    "os.environ[\"OPENAI_API_KEY\"] = ''\n",
    "from openai import OpenAI\n",
    "client = OpenAI()"
   ]
  },
  {
   "cell_type": "code",
   "execution_count": 3,
   "id": "bf5dc053-6e42-491d-971d-b3f9f5b18399",
   "metadata": {},
   "outputs": [],
   "source": [
    "import re\n",
    "def get_classification(prompt, errors):\n",
    "    completion = client.chat.completions.create(\n",
    "    model=\"gpt-4o\",\n",
    "    messages=[\n",
    "        {\n",
    "            \"role\": \"user\",\n",
    "            \"content\": prompt\n",
    "        }\n",
    "    ])\n",
    "    reply = completion.choices[0].message.content\n",
    "    # print(reply)\n",
    "    match=re.search(r'classification::.*', reply)\n",
    "    answer = [0] * len(df_train.columns.tolist()[2:])\n",
    "    if match and match.group():\n",
    "        try:\n",
    "            answer = eval(match.group()[17:])\n",
    "        except:\n",
    "            errors += 1 \n",
    "    return answer, errors"
   ]
  },
  {
   "cell_type": "code",
   "execution_count": 4,
   "id": "b4c84f9e-7b83-44f3-8353-73fdea8a15ce",
   "metadata": {},
   "outputs": [],
   "source": [
    "test_path = 'public_data_test/track_a/test/'\n",
    "train_path = 'public_data_test/track_a/train/'"
   ]
  },
  {
   "cell_type": "code",
   "execution_count": 5,
   "id": "2ca0093b-6939-4f17-87c6-675ad97bfa66",
   "metadata": {},
   "outputs": [
    {
     "name": "stdout",
     "output_type": "stream",
     "text": [
      "orm\n"
     ]
    },
    {
     "name": "stderr",
     "output_type": "stream",
     "text": [
      "100%|███████████████████████████████████████████████████████████████████████████████████████████████████████████████████████████████████████████████████████████████████| 1721/1721 [25:30<00:00,  1.12it/s]\n"
     ]
    },
    {
     "name": "stdout",
     "output_type": "stream",
     "text": [
      "number of errors in orm is 0\n",
      "ptbr\n"
     ]
    },
    {
     "name": "stderr",
     "output_type": "stream",
     "text": [
      "100%|███████████████████████████████████████████████████████████████████████████████████████████████████████████████████████████████████████████████████████████████████| 2226/2226 [29:58<00:00,  1.24it/s]\n"
     ]
    },
    {
     "name": "stdout",
     "output_type": "stream",
     "text": [
      "number of errors in ptbr is 0\n",
      "ptmz\n"
     ]
    },
    {
     "name": "stderr",
     "output_type": "stream",
     "text": [
      "100%|█████████████████████████████████████████████████████████████████████████████████████████████████████████████████████████████████████████████████████████████████████| 776/776 [10:25<00:00,  1.24it/s]\n"
     ]
    },
    {
     "name": "stdout",
     "output_type": "stream",
     "text": [
      "number of errors in ptmz is 0\n",
      "mar\n"
     ]
    },
    {
     "name": "stderr",
     "output_type": "stream",
     "text": [
      "100%|███████████████████████████████████████████████████████████████████████████████████████████████████████████████████████████████████████████████████████████████████| 1000/1000 [14:23<00:00,  1.16it/s]\n"
     ]
    },
    {
     "name": "stdout",
     "output_type": "stream",
     "text": [
      "number of errors in mar is 0\n",
      "rus\n"
     ]
    },
    {
     "name": "stderr",
     "output_type": "stream",
     "text": [
      "100%|███████████████████████████████████████████████████████████████████████████████████████████████████████████████████████████████████████████████████████████████████| 1000/1000 [13:40<00:00,  1.22it/s]\n"
     ]
    },
    {
     "name": "stdout",
     "output_type": "stream",
     "text": [
      "number of errors in rus is 0\n",
      "ibo\n"
     ]
    },
    {
     "name": "stderr",
     "output_type": "stream",
     "text": [
      "100%|███████████████████████████████████████████████████████████████████████████████████████████████████████████████████████████████████████████████████████████████████| 1444/1444 [23:33<00:00,  1.02it/s]\n"
     ]
    },
    {
     "name": "stdout",
     "output_type": "stream",
     "text": [
      "number of errors in ibo is 0\n",
      "pcm\n"
     ]
    },
    {
     "name": "stderr",
     "output_type": "stream",
     "text": [
      "100%|███████████████████████████████████████████████████████████████████████████████████████████████████████████████████████████████████████████████████████████████████| 1870/1870 [31:00<00:00,  1.01it/s]\n"
     ]
    },
    {
     "name": "stdout",
     "output_type": "stream",
     "text": [
      "number of errors in pcm is 0\n",
      "ron\n"
     ]
    },
    {
     "name": "stderr",
     "output_type": "stream",
     "text": [
      "100%|███████████████████████████████████████████████████████████████████████████████████████████████████████████████████████████████████████████████████████████████████| 1119/1119 [17:32<00:00,  1.06it/s]\n"
     ]
    },
    {
     "name": "stdout",
     "output_type": "stream",
     "text": [
      "number of errors in ron is 0\n",
      "kin\n"
     ]
    },
    {
     "name": "stderr",
     "output_type": "stream",
     "text": [
      "100%|███████████████████████████████████████████████████████████████████████████████████████████████████████████████████████████████████████████████████████████████████| 1231/1231 [18:34<00:00,  1.10it/s]"
     ]
    },
    {
     "name": "stdout",
     "output_type": "stream",
     "text": [
      "number of errors in kin is 0\n"
     ]
    },
    {
     "name": "stderr",
     "output_type": "stream",
     "text": [
      "\n"
     ]
    }
   ],
   "source": [
    "for filename in os.listdir(train_path):\n",
    "    if not filename.endswith('.csv'):\n",
    "        continue\n",
    "    language = filename[0:-4]\n",
    "    print(language)\n",
    "    df_train = pd.read_csv(train_path+filename)\n",
    "    df_test = pd.read_csv(test_path+filename)\n",
    "\n",
    "    prompt1 = (\"Hi, I have a project that I'm doing for various languages. The task description is: Given a target text snippet, \" \n",
    "    \"predict the perceived emotion(s) of the speaker. Specifically, select whether each of the following \"\n",
    "    \"emotions apply: joy, sadness, fear, anger, surprise, or disgust. In other words, label the text snippet \"\n",
    "    \"with: joy (1) or no joy (0), sadness (1) or no sadness (0), anger (1) or no anger (0), surprise (1) or no \"\n",
    "    \"surprise (0), and disgust (1) or no disgust (0). I am going to give you a small set of training examples \"\n",
    "    \"for you to get an understanding of what's expected. First I will tell you the set and order of emotions \"\n",
    "    \"that are present in the training set. Then I'll give you examples. After this I will ask you to return me \"\n",
    "    \"answers for test and they should be in the format 'classification:: []' so that I can parse the answer. \"\n",
    "    \"The array in this response should have the same number of emotions and order of emotions as training set! \")\n",
    "\n",
    "    emotions = df_train.columns.tolist()[2:]\n",
    "    prompt2 = \"The order of emotions is {}\".format(emotions)\n",
    "    prompt = prompt1+ \"\\n\" +prompt2\n",
    "\n",
    "    sample_sentence = \"\"\n",
    "    for index in range(50):\n",
    "        text = df_train.iloc[index]['text']\n",
    "        classification = df_train.iloc[index][2:].tolist()\n",
    "        sample_sentence += \"\\n Example number:: {}, text:: {}, classification:: {} \".format(index,text,classification)\n",
    "    prompt = prompt+sample_sentence\n",
    "\n",
    "    errors = 0\n",
    "    result = []\n",
    "    \n",
    "    from tqdm import tqdm\n",
    "    \n",
    "    for i in tqdm(range(df_test.shape[0])):\n",
    "        test_case = \"\\n I don't need explanations, what is the answer for the test case:: {}\".format(df_test.iloc[i]['text'])\n",
    "        test_prompt = prompt + test_case\n",
    "        answer, errors = get_classification(test_prompt, errors)\n",
    "        answer.insert(0,df_test.iloc[i]['id'])\n",
    "        result.append(answer)\n",
    "\n",
    "    print(\"number of errors in {} is {}\".format(language,errors))\n",
    "\n",
    "    c = df_train.columns.tolist()[2:]\n",
    "    c.insert(0,'id')\n",
    "    result_df = pd.DataFrame(result,columns=c)\n",
    "    result_df.to_csv(\"track_a/pred_{}.csv\".format(language),index=False)"
   ]
  },
  {
   "cell_type": "code",
   "execution_count": null,
   "id": "7fdee9aa-8d41-41a9-b935-b4f498e19431",
   "metadata": {},
   "outputs": [],
   "source": []
  }
 ],
 "metadata": {
  "kernelspec": {
   "display_name": "Python 3 (ipykernel)",
   "language": "python",
   "name": "python3"
  },
  "language_info": {
   "codemirror_mode": {
    "name": "ipython",
    "version": 3
   },
   "file_extension": ".py",
   "mimetype": "text/x-python",
   "name": "python",
   "nbconvert_exporter": "python",
   "pygments_lexer": "ipython3",
   "version": "3.9.20"
  }
 },
 "nbformat": 4,
 "nbformat_minor": 5
}
